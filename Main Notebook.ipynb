{
  "cells": [
    {
      "cell_type": "code",
      "execution_count": 5,
      "id": "299c694a",
      "metadata": {
        "colab": {
          "base_uri": "https://localhost:8080/"
        },
        "id": "299c694a",
        "outputId": "3b966c22-6239-4cc5-b37d-dedc95f0e3a0"
      },
      "outputs": [
        {
          "output_type": "execute_result",
          "data": {
            "text/plain": [
              "32512"
            ]
          },
          "metadata": {},
          "execution_count": 5
        }
      ],
      "source": [
        "import os\n",
        "os.system('cmd command')"
      ]
    },
    {
      "cell_type": "code",
      "source": [
        "from google.colab import drive\n",
        "drive.mount('/content/drive')"
      ],
      "metadata": {
        "colab": {
          "base_uri": "https://localhost:8080/"
        },
        "id": "01783raQLGRJ",
        "outputId": "48b5276a-7581-4749-d5d1-342fa111835e"
      },
      "id": "01783raQLGRJ",
      "execution_count": 6,
      "outputs": [
        {
          "output_type": "stream",
          "name": "stdout",
          "text": [
            "Mounted at /content/drive\n"
          ]
        }
      ]
    },
    {
      "cell_type": "code",
      "source": [
        "%%bash\n",
        "%cd /content/drive/MyDrive/\n",
        "%cd ProgressivePrompts\n",
        "%git clone https://github.com/dianabenavidesprado/ProgressivePrompts.git"
      ],
      "metadata": {
        "colab": {
          "base_uri": "https://localhost:8080/"
        },
        "id": "5_4WA0X9NEjP",
        "outputId": "40119dd1-dbc7-40c8-d1b8-8af8a37bc5d3"
      },
      "id": "5_4WA0X9NEjP",
      "execution_count": 10,
      "outputs": [
        {
          "output_type": "stream",
          "name": "stderr",
          "text": [
            "bash: line 3: cd: ProgressivePrompts: No such file or directory\n",
            "Cloning into 'ProgressivePrompts'...\n"
          ]
        }
      ]
    },
    {
      "cell_type": "code",
      "source": [
        "%cd /content/drive/MyDrive"
      ],
      "metadata": {
        "id": "1U7cbBEKOFFj",
        "outputId": "01d7146e-c638-4bd3-baf4-fa7317e113be",
        "colab": {
          "base_uri": "https://localhost:8080/"
        }
      },
      "id": "1U7cbBEKOFFj",
      "execution_count": 13,
      "outputs": [
        {
          "output_type": "stream",
          "name": "stdout",
          "text": [
            "/content/drive/MyDrive\n"
          ]
        }
      ]
    },
    {
      "cell_type": "code",
      "source": [
        "%cd ProgressivePrompts"
      ],
      "metadata": {
        "id": "ZPvn98aGOG6N",
        "outputId": "726b4b45-dee6-4942-a79c-6813fae36b2f",
        "colab": {
          "base_uri": "https://localhost:8080/"
        }
      },
      "id": "ZPvn98aGOG6N",
      "execution_count": 3,
      "outputs": [
        {
          "output_type": "stream",
          "name": "stdout",
          "text": [
            "/content/ProgressivePrompts\n"
          ]
        }
      ]
    },
    {
      "cell_type": "code",
      "source": [
        "!pip install -q condacolab\n"
      ],
      "metadata": {
        "id": "OJP6KA64RtFc"
      },
      "id": "OJP6KA64RtFc",
      "execution_count": 23,
      "outputs": []
    },
    {
      "cell_type": "code",
      "execution_count": 28,
      "id": "cbd5e8e6",
      "metadata": {
        "colab": {
          "base_uri": "https://localhost:8080/"
        },
        "id": "cbd5e8e6",
        "outputId": "e91bdd14-4816-4479-b4c0-3042ddf580f2"
      },
      "outputs": [
        {
          "output_type": "stream",
          "name": "stdout",
          "text": [
            "⏬ Downloading https://github.com/jaimergp/miniforge/releases/download/24.11.2-1_colab/Miniforge3-colab-24.11.2-1_colab-Linux-x86_64.sh...\n",
            "📦 Installing...\n",
            "📌 Adjusting configuration...\n",
            "🩹 Patching environment...\n",
            "⏲ Done in 0:00:18\n",
            "🔁 Restarting kernel...\n"
          ]
        }
      ],
      "source": [
        "import condacolab\n",
        "condacolab.install()"
      ]
    },
    {
      "cell_type": "code",
      "source": [
        "os.getcwd()"
      ],
      "metadata": {
        "id": "2OZ0BLlzS1j6",
        "outputId": "7f4e243f-7335-4027-ede4-63d7897c853d",
        "colab": {
          "base_uri": "https://localhost:8080/",
          "height": 35
        }
      },
      "id": "2OZ0BLlzS1j6",
      "execution_count": 6,
      "outputs": [
        {
          "output_type": "execute_result",
          "data": {
            "text/plain": [
              "'/content/ProgressivePrompts'"
            ],
            "application/vnd.google.colaboratory.intrinsic+json": {
              "type": "string"
            }
          },
          "metadata": {},
          "execution_count": 6
        }
      ]
    },
    {
      "cell_type": "code",
      "execution_count": 7,
      "id": "3d50a1df",
      "metadata": {
        "colab": {
          "base_uri": "https://localhost:8080/"
        },
        "id": "3d50a1df",
        "outputId": "126b0775-8316-4b1a-8990-6f34da9d6e4f"
      },
      "outputs": [
        {
          "output_type": "stream",
          "name": "stdout",
          "text": [
            "Channels:\n",
            " - defaults\n",
            " - conda-forge\n",
            "Platform: linux-64\n",
            "Collecting package metadata (repodata.json): - \b\b\\ \b\b| \b\b/ \b\b- \b\b\\ \b\b| \b\b/ \b\b- \b\b\\ \b\b| \b\b/ \b\b- \b\b\\ \b\b| \b\b/ \b\b- \b\b\\ \b\b| \b\b/ \b\b- \b\b\\ \b\b| \b\b/ \b\b- \b\b\\ \b\b| \b\b/ \b\b- \b\b\\ \b\b| \b\b/ \b\b- \b\b\\ \b\b| \b\b/ \b\b- \b\b\\ \b\b| \b\b/ \b\b- \b\b\\ \b\b| \b\b/ \b\b- \b\b\\ \b\b| \b\b/ \b\b- \b\b\\ \b\b| \b\b/ \b\b- \b\b\\ \b\b| \b\b/ \b\b- \b\b\\ \b\b| \b\b/ \b\b- \b\b\\ \b\bdone\n",
            "Solving environment: / \b\b- \b\b\\ \b\bfailed\n",
            "\n",
            "LibMambaUnsatisfiableError: Encountered problems while solving:\n",
            "  - nothing provides requested stack-data 0.2.0**\n",
            "  - nothing provides requested pure-eval 0.2.2**\n",
            "  - nothing provides requested prometheus-client 0.13.1**\n",
            "  - nothing provides requested jupyterlab-widgets 1.0.0**\n",
            "  - nothing provides requested jupyterlab-pygments 0.1.2**\n",
            "  - nothing provides requested jupyter-core 4.9.2**\n",
            "  - nothing provides requested jupyter-console 6.4.0**\n",
            "  - nothing provides requested jupyter-client 7.1.2**\n",
            "  - nothing provides requested ipython-genutils 0.2.0**\n",
            "  - nothing provides __cuda needed by tensorflow-2.8.0-cuda102py310hcf4adbc_0\n",
            "\n",
            "Could not solve for environment specs\n",
            "The following packages are incompatible\n",
            "├─ \u001b[31mipython-genutils 0.2.0** \u001b[0m does not exist (perhaps a typo or a missing channel);\n",
            "├─ \u001b[31mjupyter-client 7.1.2** \u001b[0m does not exist (perhaps a typo or a missing channel);\n",
            "├─ \u001b[31mjupyter-console 6.4.0** \u001b[0m does not exist (perhaps a typo or a missing channel);\n",
            "├─ \u001b[31mjupyter-core 4.9.2** \u001b[0m does not exist (perhaps a typo or a missing channel);\n",
            "├─ \u001b[31mjupyterlab-pygments 0.1.2** \u001b[0m does not exist (perhaps a typo or a missing channel);\n",
            "├─ \u001b[31mjupyterlab-widgets 1.0.0** \u001b[0m does not exist (perhaps a typo or a missing channel);\n",
            "├─ \u001b[31mprometheus-client 0.13.1** \u001b[0m does not exist (perhaps a typo or a missing channel);\n",
            "├─ \u001b[31mpure-eval 0.2.2** \u001b[0m does not exist (perhaps a typo or a missing channel);\n",
            "├─ \u001b[32msqlite 3.38.0** \u001b[0m is requested and can be installed;\n",
            "├─ \u001b[31mstack-data 0.2.0** \u001b[0m does not exist (perhaps a typo or a missing channel);\n",
            "└─ \u001b[31mtensorflow 2.8.0** \u001b[0m is not installable because there are no viable options\n",
            "   ├─ \u001b[31mtensorflow 2.8.0\u001b[0m would require\n",
            "   │  └─ \u001b[31mtensorflow-base [2.8.0 cpu_py310h75e90da_0|2.8.0 cpu_py37h4373017_0|2.8.0 cpu_py38hdf8f09a_0|2.8.0 cpu_py39h7e02d9e_0]\u001b[0m, which requires\n",
            "   │     └─ \u001b[31msqlite >=3.38.5,<4.0a0 \u001b[0m but there are no viable options\n",
            "   │        ├─ \u001b[31msqlite [3.38.5|3.39.0|...|3.50.4]\u001b[0m conflicts with any installable versions previously reported;\n",
            "   │        └─ \u001b[31msqlite 3.49.0\u001b[0m would require\n",
            "   │           └─ \u001b[31mlibsqlite 3.49.0 hee588c1_0\u001b[0m, which does not exist (perhaps a missing channel);\n",
            "   └─ \u001b[31mtensorflow 2.8.0\u001b[0m would require\n",
            "      └─ \u001b[31m__cuda\u001b[0m, which is missing on the system.\n",
            "\n",
            "\n",
            "CondaError: Run 'conda init' before 'conda activate'\n",
            "\n"
          ]
        }
      ],
      "source": [
        "!conda env create -f environment.yaml"
      ]
    },
    {
      "cell_type": "code",
      "source": [
        "!conda activate nlp"
      ],
      "metadata": {
        "id": "d6Eh6TLfI5uN"
      },
      "id": "d6Eh6TLfI5uN",
      "execution_count": null,
      "outputs": []
    },
    {
      "cell_type": "code",
      "execution_count": 9,
      "id": "c4fc6f4e",
      "metadata": {
        "colab": {
          "base_uri": "https://localhost:8080/"
        },
        "id": "c4fc6f4e",
        "outputId": "8ea73e66-1289-4353-fa37-a33b9bea07ee"
      },
      "outputs": [
        {
          "output_type": "stream",
          "name": "stdout",
          "text": [
            "python: can't open file '/content/ProgressivePrompts/train_t5_cl.py': [Errno 2] No such file or directory\n"
          ]
        }
      ],
      "source": [
        "!cd T5_codebase\n",
        "\n",
        "!python train_t5_cl.py --task_list imdb cb sst2 dbpedia_14 --select_k_per_class 1000 \\\n",
        "--lr 0.3 --num_epochs 10 --freeze_weights 1 --prefix_len 10 \\\n",
        "--model_name t5-large --early_stopping 1 \\\n",
        "--save_name T5_experiment --save_dir my_path_to_save_directory"
      ]
    }
  ],
  "metadata": {
    "kernelspec": {
      "display_name": "Python 3 (ipykernel)",
      "language": "python",
      "name": "python3"
    },
    "language_info": {
      "codemirror_mode": {
        "name": "ipython",
        "version": 3
      },
      "file_extension": ".py",
      "mimetype": "text/x-python",
      "name": "python",
      "nbconvert_exporter": "python",
      "pygments_lexer": "ipython3",
      "version": "3.10.9"
    },
    "colab": {
      "provenance": []
    }
  },
  "nbformat": 4,
  "nbformat_minor": 5
}