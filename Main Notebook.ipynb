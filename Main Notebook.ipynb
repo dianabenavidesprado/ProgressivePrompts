{
  "cells": [
    {
      "cell_type": "code",
      "execution_count": 1,
      "id": "299c694a",
      "metadata": {
        "id": "299c694a",
        "outputId": "8353ee7c-5c09-422c-89f3-a66bba845606",
        "colab": {
          "base_uri": "https://localhost:8080/"
        }
      },
      "outputs": [
        {
          "output_type": "execute_result",
          "data": {
            "text/plain": [
              "32512"
            ]
          },
          "metadata": {},
          "execution_count": 1
        }
      ],
      "source": [
        "import os\n",
        "os.system('cmd command')"
      ]
    },
    {
      "cell_type": "code",
      "source": [
        "from google.colab import drive\n",
        "drive.mount('/content/drive')"
      ],
      "metadata": {
        "id": "01783raQLGRJ",
        "outputId": "48b5276a-7581-4749-d5d1-342fa111835e",
        "colab": {
          "base_uri": "https://localhost:8080/"
        }
      },
      "id": "01783raQLGRJ",
      "execution_count": 6,
      "outputs": [
        {
          "output_type": "stream",
          "name": "stdout",
          "text": [
            "Mounted at /content/drive\n"
          ]
        }
      ]
    },
    {
      "cell_type": "code",
      "source": [
        "%%bash\n",
        "%cd /content/drive/MyDrive/\n",
        "%cd ProgressivePrompts\n",
        "%git clone https://github.com/dianabenavidesprado/ProgressivePrompts.git"
      ],
      "metadata": {
        "id": "5_4WA0X9NEjP",
        "outputId": "40119dd1-dbc7-40c8-d1b8-8af8a37bc5d3",
        "colab": {
          "base_uri": "https://localhost:8080/"
        }
      },
      "id": "5_4WA0X9NEjP",
      "execution_count": 10,
      "outputs": [
        {
          "output_type": "stream",
          "name": "stderr",
          "text": [
            "bash: line 3: cd: ProgressivePrompts: No such file or directory\n",
            "Cloning into 'ProgressivePrompts'...\n"
          ]
        }
      ]
    },
    {
      "cell_type": "code",
      "source": [
        "os.getcwd()"
      ],
      "metadata": {
        "id": "GYCCcjSrKeGc",
        "outputId": "ef1658bd-872e-4419-9646-865a6a12a9ee",
        "colab": {
          "base_uri": "https://localhost:8080/",
          "height": 35
        }
      },
      "id": "GYCCcjSrKeGc",
      "execution_count": 8,
      "outputs": [
        {
          "output_type": "execute_result",
          "data": {
            "text/plain": [
              "'/content'"
            ],
            "application/vnd.google.colaboratory.intrinsic+json": {
              "type": "string"
            }
          },
          "metadata": {},
          "execution_count": 8
        }
      ]
    },
    {
      "cell_type": "code",
      "execution_count": 12,
      "id": "cbd5e8e6",
      "metadata": {
        "id": "cbd5e8e6",
        "outputId": "b962e400-12cb-48c8-e17a-c1bff7b4c932",
        "colab": {
          "base_uri": "https://localhost:8080/"
        }
      },
      "outputs": [
        {
          "output_type": "stream",
          "name": "stdout",
          "text": [
            "/bin/bash: line 1: conda: command not found\n"
          ]
        }
      ],
      "source": [
        "!cd /content/ProgressivePrompts\n",
        "!conda env create -f environment.yaml"
      ]
    },
    {
      "cell_type": "code",
      "execution_count": null,
      "id": "3d50a1df",
      "metadata": {
        "id": "3d50a1df"
      },
      "outputs": [],
      "source": [
        "!conda activate nlp"
      ]
    },
    {
      "cell_type": "code",
      "execution_count": null,
      "id": "c4fc6f4e",
      "metadata": {
        "id": "c4fc6f4e"
      },
      "outputs": [],
      "source": [
        "!cd T5_codebase\n",
        "\n",
        "!python train_t5_cl.py --task_list imdb cb sst2 dbpedia_14 --select_k_per_class 1000 \\\n",
        "--lr 0.3 --num_epochs 10 --freeze_weights 1 --prefix_len 10 \\\n",
        "--model_name t5-large --early_stopping 1 \\\n",
        "--save_name T5_experiment --save_dir my_path_to_save_directory"
      ]
    }
  ],
  "metadata": {
    "kernelspec": {
      "display_name": "Python 3 (ipykernel)",
      "language": "python",
      "name": "python3"
    },
    "language_info": {
      "codemirror_mode": {
        "name": "ipython",
        "version": 3
      },
      "file_extension": ".py",
      "mimetype": "text/x-python",
      "name": "python",
      "nbconvert_exporter": "python",
      "pygments_lexer": "ipython3",
      "version": "3.10.9"
    },
    "colab": {
      "provenance": []
    }
  },
  "nbformat": 4,
  "nbformat_minor": 5
}