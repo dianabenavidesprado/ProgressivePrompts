{
 "cells": [
  {
   "cell_type": "code",
   "execution_count": null,
   "id": "299c694a",
   "metadata": {},
   "outputs": [],
   "source": [
    "import os\n",
    "os.system('cmd command')"
   ]
  },
  {
   "cell_type": "code",
   "execution_count": null,
   "id": "cbd5e8e6",
   "metadata": {},
   "outputs": [],
   "source": [
    "!cd ProgressivePrompts\n",
    "!conda env create -f environment.yaml"
   ]
  },
  {
   "cell_type": "code",
   "execution_count": null,
   "id": "3d50a1df",
   "metadata": {},
   "outputs": [],
   "source": [
    "!conda activate nlp"
   ]
  },
  {
   "cell_type": "code",
   "execution_count": null,
   "id": "c4fc6f4e",
   "metadata": {},
   "outputs": [],
   "source": [
    "!cd T5_codebase\n",
    "\n",
    "!python train_t5_cl.py --task_list imdb cb sst2 dbpedia_14 --select_k_per_class 1000 \\\n",
    "--lr 0.3 --num_epochs 10 --freeze_weights 1 --prefix_len 10 \\\n",
    "--model_name t5-large --early_stopping 1 \\\n",
    "--save_name T5_experiment --save_dir my_path_to_save_directory"
   ]
  }
 ],
 "metadata": {
  "kernelspec": {
   "display_name": "Python 3 (ipykernel)",
   "language": "python",
   "name": "python3"
  },
  "language_info": {
   "codemirror_mode": {
    "name": "ipython",
    "version": 3
   },
   "file_extension": ".py",
   "mimetype": "text/x-python",
   "name": "python",
   "nbconvert_exporter": "python",
   "pygments_lexer": "ipython3",
   "version": "3.10.9"
  }
 },
 "nbformat": 4,
 "nbformat_minor": 5
}
